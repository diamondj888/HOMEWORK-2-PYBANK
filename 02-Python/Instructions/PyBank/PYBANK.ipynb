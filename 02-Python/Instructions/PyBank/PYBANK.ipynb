{
 "cells": [
  {
   "cell_type": "code",
   "execution_count": 1,
   "id": "e862854e-086a-4312-8657-ed5ebb835c3c",
   "metadata": {},
   "outputs": [],
   "source": [
    "# imports\n",
    "import csv\n",
    "from pathlib import Path\n"
   ]
  },
  {
   "cell_type": "code",
   "execution_count": 4,
   "id": "81e37d9b-f6a0-4a04-8eef-a3d76b96b325",
   "metadata": {},
   "outputs": [],
   "source": [
    "#note to self - create the path etc\n",
    "filetoload = Path(\"Resources/budget_data.csv\")\n",
    "filetooutput = Path(\"Resources/pybankoutput.txt\")\n",
    "    \n",
    "    "
   ]
  },
  {
   "cell_type": "code",
   "execution_count": 5,
   "id": "0c57b17b-a40c-4daf-b92e-05ded841468c",
   "metadata": {},
   "outputs": [],
   "source": [
    "# first thing - declare our variablestotal_months = 0\n",
    "month_of_change = []\n",
    "net_change_list = []\n",
    "greatest_increase = [\"\", 0]\n",
    "greatest_decrease = [\"\", 9999999999999999999]\n",
    "total_net = 0"
   ]
  },
  {
   "cell_type": "code",
   "execution_count": 9,
   "id": "1773f8a8-e666-4a96-b357-4a057749408e",
   "metadata": {},
   "outputs": [],
   "source": [
    "# almost all work in this cell\n",
    "with open(filetoload) as financial_data: \n",
    "    reader = csv.reader(financial_data)\n",
    "    header = next(reader)\n",
    "    \n",
    "    first_row = next(reader)\n",
    "    total_months = 1\n",
    "    total_net = int(first_row[1])\n",
    "    prev_net = int(first_row[1])\n",
    "    \n",
    "    ## create a for loop - has to accomplish - 1) update total net and total months \n",
    "    ## track the net change - which will be current row minus previously.  need to append the current net change to net change list and you could append month to your month of change list\n",
    "    ## calculate greatest increase and decrease with a conditional statement"
   ]
  },
  {
   "cell_type": "code",
   "execution_count": 11,
   "id": "6c3dce21-b636-4c94-902a-270527c9b7ef",
   "metadata": {},
   "outputs": [],
   "source": [
    "# calc avg net change - sum net change and divide by length/number of net change list. len(net_change_list) > sum of (net change list divided by length)"
   ]
  },
  {
   "cell_type": "code",
   "execution_count": null,
   "id": "ebf92e8f-3ee2-4460-ae77-18f2c498c5cf",
   "metadata": {},
   "outputs": [],
   "source": [
    "# Export the results to text file\n",
    "with open(filetooutput, \"w\") as txt_file:\n",
    "    txt_file.write(f\"Financial Analysis\\n\")\n",
    "    txt_file.write(f\"----------------------------\\n\")\n",
    "    txt_file.write(f\"Total Months: {total_months}\\n\")\n",
    "    txt_file.write(f\"Total: ${total_net}\\n\")\n",
    "    txt_file.write(f\"Average  Change: ${net_monthly_avg}\\n\")\n",
    "    txt_file.write(f\"Greatest Increase in Profits: {greatest_increase[0]} (${greatest_increase[1]})\\n\")\n",
    "    txt_file.write(f\"Greatest Decrease in Profits: {greatest_decrease[0]} (${greatest_decrease[1]})\\n\")"
   ]
  },
  {
   "cell_type": "code",
   "execution_count": null,
   "id": "354a1548-f191-4859-af41-dd2709b7a4b4",
   "metadata": {},
   "outputs": [],
   "source": []
  }
 ],
 "metadata": {
  "kernelspec": {
   "display_name": "Python 3 (ipykernel)",
   "language": "python",
   "name": "python3"
  },
  "language_info": {
   "codemirror_mode": {
    "name": "ipython",
    "version": 3
   },
   "file_extension": ".py",
   "mimetype": "text/x-python",
   "name": "python",
   "nbconvert_exporter": "python",
   "pygments_lexer": "ipython3",
   "version": "3.7.11"
  }
 },
 "nbformat": 4,
 "nbformat_minor": 5
}
